{
 "cells": [
  {
   "cell_type": "markdown",
   "metadata": {
    "toc": true
   },
   "source": [
    "<h1>Table of Contents<span class=\"tocSkip\"></span></h1>\n",
    "<div class=\"toc\"><ul class=\"toc-item\"><li><span><a href=\"#Math-Lab-3---Allen-Hart\" data-toc-modified-id=\"Math-Lab-3---Allen-Hart-1\"><span class=\"toc-item-num\">1&nbsp;&nbsp;</span>Math Lab 3 - Allen Hart</a></span><ul class=\"toc-item\"><li><span><a href=\"#Part-1:-Solving-Differential-Equations-Analytically-using-SymPy\" data-toc-modified-id=\"Part-1:-Solving-Differential-Equations-Analytically-using-SymPy-1.1\"><span class=\"toc-item-num\">1.1&nbsp;&nbsp;</span>Part 1: Solving Differential Equations Analytically using SymPy</a></span><ul class=\"toc-item\"><li><span><a href=\"#Defining-Symbolic-Functions-and-Statements-with-SymPy\" data-toc-modified-id=\"Defining-Symbolic-Functions-and-Statements-with-SymPy-1.1.1\"><span class=\"toc-item-num\">1.1.1&nbsp;&nbsp;</span>Defining Symbolic Functions and Statements with SymPy</a></span><ul class=\"toc-item\"><li><span><a href=\"#More-than-three-ways-to-make-a-function-with-SymPy\" data-toc-modified-id=\"More-than-three-ways-to-make-a-function-with-SymPy-1.1.1.1\"><span class=\"toc-item-num\">1.1.1.1&nbsp;&nbsp;</span>More than three ways to make a function with SymPy</a></span><ul class=\"toc-item\"><li><span><a href=\"#Undefined-functions\" data-toc-modified-id=\"Undefined-functions-1.1.1.1.1\"><span class=\"toc-item-num\">1.1.1.1.1&nbsp;&nbsp;</span>Undefined functions</a></span></li><li><span><a href=\"#Defined-functions\" data-toc-modified-id=\"Defined-functions-1.1.1.1.2\"><span class=\"toc-item-num\">1.1.1.1.2&nbsp;&nbsp;</span>Defined functions</a></span></li></ul></li><li><span><a href=\"#Differentiating-Single-Variable-Functions\" data-toc-modified-id=\"Differentiating-Single-Variable-Functions-1.1.1.2\"><span class=\"toc-item-num\">1.1.1.2&nbsp;&nbsp;</span>Differentiating Single Variable Functions</a></span><ul class=\"toc-item\"><li><span><a href=\"#Proper-Syntax-for-taking-derivatives\" data-toc-modified-id=\"Proper-Syntax-for-taking-derivatives-1.1.1.2.1\"><span class=\"toc-item-num\">1.1.1.2.1&nbsp;&nbsp;</span>Proper Syntax for taking derivatives</a></span></li><li><span><a href=\"#Two-ways-to-take-a-derivative-symbolically\" data-toc-modified-id=\"Two-ways-to-take-a-derivative-symbolically-1.1.1.2.2\"><span class=\"toc-item-num\">1.1.1.2.2&nbsp;&nbsp;</span>Two ways to take a derivative symbolically</a></span></li><li><span><a href=\"#Declaring-Partial-Derivatives\" data-toc-modified-id=\"Declaring-Partial-Derivatives-1.1.1.2.3\"><span class=\"toc-item-num\">1.1.1.2.3&nbsp;&nbsp;</span>Declaring Partial Derivatives</a></span></li></ul></li></ul></li><li><span><a href=\"#Solving-Differentials-Analytically-using-SymPy\" data-toc-modified-id=\"Solving-Differentials-Analytically-using-SymPy-1.1.2\"><span class=\"toc-item-num\">1.1.2&nbsp;&nbsp;</span>Solving Differentials Analytically using SymPy</a></span><ul class=\"toc-item\"><li><span><a href=\"#Exploring-SymPy-Documentation\" data-toc-modified-id=\"Exploring-SymPy-Documentation-1.1.2.1\"><span class=\"toc-item-num\">1.1.2.1&nbsp;&nbsp;</span>Exploring SymPy Documentation</a></span></li></ul></li><li><span><a href=\"#Solving-Differentials-Analytically-using-sympy.integrate\" data-toc-modified-id=\"Solving-Differentials-Analytically-using-sympy.integrate-1.1.3\"><span class=\"toc-item-num\">1.1.3&nbsp;&nbsp;</span>Solving Differentials Analytically using <code>sympy.integrate</code></a></span><ul class=\"toc-item\"><li><span><a href=\"#First-Example-From-Delta-College\" data-toc-modified-id=\"First-Example-From-Delta-College-1.1.3.1\"><span class=\"toc-item-num\">1.1.3.1&nbsp;&nbsp;</span>First Example From Delta College</a></span></li></ul></li><li><span><a href=\"#Solving-Differentials-Analytically-using-sympy.solvers.ode.dsolve\" data-toc-modified-id=\"Solving-Differentials-Analytically-using-sympy.solvers.ode.dsolve-1.1.4\"><span class=\"toc-item-num\">1.1.4&nbsp;&nbsp;</span>Solving Differentials Analytically using <code>sympy.solvers.ode.dsolve</code></a></span><ul class=\"toc-item\"><li><span><a href=\"#Setting-equalities-with-Eq()\" data-toc-modified-id=\"Setting-equalities-with-Eq()-1.1.4.1\"><span class=\"toc-item-num\">1.1.4.1&nbsp;&nbsp;</span>Setting equalities with <code>Eq()</code></a></span></li><li><span><a href=\"#Exploring-ode.dsolve\" data-toc-modified-id=\"Exploring-ode.dsolve-1.1.4.2\"><span class=\"toc-item-num\">1.1.4.2&nbsp;&nbsp;</span>Exploring <code>ode.dsolve</code></a></span><ul class=\"toc-item\"><li><span><a href=\"#classify_ode()\" data-toc-modified-id=\"classify_ode()-1.1.4.2.1\"><span class=\"toc-item-num\">1.1.4.2.1&nbsp;&nbsp;</span><code>classify_ode()</code></a></span></li></ul></li></ul></li><li><span><a href=\"#San-Joaquin-Delta-College-Lab-Problems\" data-toc-modified-id=\"San-Joaquin-Delta-College-Lab-Problems-1.1.5\"><span class=\"toc-item-num\">1.1.5&nbsp;&nbsp;</span>San Joaquin Delta College Lab Problems</a></span><ul class=\"toc-item\"><li><span><a href=\"#First-Problem:-Solved!\" data-toc-modified-id=\"First-Problem:-Solved!-1.1.5.1\"><span class=\"toc-item-num\">1.1.5.1&nbsp;&nbsp;</span><strong>First Problem: Solved!</strong></a></span><ul class=\"toc-item\"><li><span><a href=\"#Solving-Differentials-with-Symbolically-Defined-Functions\" data-toc-modified-id=\"Solving-Differentials-with-Symbolically-Defined-Functions-1.1.5.1.1\"><span class=\"toc-item-num\">1.1.5.1.1&nbsp;&nbsp;</span>Solving Differentials with Symbolically Defined Functions</a></span></li></ul></li><li><span><a href=\"#Second-Lab-Problem\" data-toc-modified-id=\"Second-Lab-Problem-1.1.5.2\"><span class=\"toc-item-num\">1.1.5.2&nbsp;&nbsp;</span>Second Lab Problem</a></span></li><li><span><a href=\"#Third-Lab-Problem\" data-toc-modified-id=\"Third-Lab-Problem-1.1.5.3\"><span class=\"toc-item-num\">1.1.5.3&nbsp;&nbsp;</span>Third Lab Problem</a></span></li></ul></li></ul></li><li><span><a href=\"#Part-2:-Solving-Initial-Value-Problems\" data-toc-modified-id=\"Part-2:-Solving-Initial-Value-Problems-1.2\"><span class=\"toc-item-num\">1.2&nbsp;&nbsp;</span>Part 2: Solving Initial Value Problems</a></span><ul class=\"toc-item\"><li><ul class=\"toc-item\"><li><span><a href=\"#SymPy-doesn't-handle-non-linear-initial-value-problems\" data-toc-modified-id=\"SymPy-doesn't-handle-non-linear-initial-value-problems-1.2.0.1\"><span class=\"toc-item-num\">1.2.0.1&nbsp;&nbsp;</span>SymPy doesn't handle non-linear initial value problems</a></span><ul class=\"toc-item\"><li><span><a href=\"#Solution:-Parsing-output-strings-into-functions\" data-toc-modified-id=\"Solution:-Parsing-output-strings-into-functions-1.2.0.1.1\"><span class=\"toc-item-num\">1.2.0.1.1&nbsp;&nbsp;</span>Solution: Parsing output strings into functions</a></span></li><li><span><a href=\"#Note-to-self:-Use-SciPy-+-(SpaCy-or-NLTK)-to-parse-equations-into-variables-and-operations\" data-toc-modified-id=\"Note-to-self:-Use-SciPy-+-(SpaCy-or-NLTK)-to-parse-equations-into-variables-and-operations-1.2.0.1.2\"><span class=\"toc-item-num\">1.2.0.1.2&nbsp;&nbsp;</span>Note to self: Use SciPy + (SpaCy or NLTK) to parse equations into variables and operations</a></span></li></ul></li><li><span><a href=\"#Discovery:-head-developer-shares-info-about-initial/boundary-conditions\" data-toc-modified-id=\"Discovery:-head-developer-shares-info-about-initial/boundary-conditions-1.2.0.2\"><span class=\"toc-item-num\">1.2.0.2&nbsp;&nbsp;</span>Discovery: head developer shares info about initial/boundary conditions</a></span></li></ul></li><li><span><a href=\"#Back-to-the-SJDC-Intital-Value-Problems\" data-toc-modified-id=\"Back-to-the-SJDC-Intital-Value-Problems-1.2.1\"><span class=\"toc-item-num\">1.2.1&nbsp;&nbsp;</span>Back to the SJDC Intital Value Problems</a></span><ul class=\"toc-item\"><li><span><a href=\"#Define-Python-function-to-extract-constants-from-Eq-statement\" data-toc-modified-id=\"Define-Python-function-to-extract-constants-from-Eq-statement-1.2.1.1\"><span class=\"toc-item-num\">1.2.1.1&nbsp;&nbsp;</span>Define Python function to extract constants from <code>Eq</code> statement</a></span></li></ul></li><li><span><a href=\"#Initial-Value-Example-Problems-from-SymPy-Doc\" data-toc-modified-id=\"Initial-Value-Example-Problems-from-SymPy-Doc-1.2.2\"><span class=\"toc-item-num\">1.2.2&nbsp;&nbsp;</span>Initial Value Example Problems from SymPy Doc</a></span></li></ul></li><li><span><a href=\"#Speeding-Up-SymPy-with-Cython\" data-toc-modified-id=\"Speeding-Up-SymPy-with-Cython-1.3\"><span class=\"toc-item-num\">1.3&nbsp;&nbsp;</span>Speeding Up SymPy with Cython</a></span></li></ul></li></ul></div>"
   ]
  },
  {
   "cell_type": "markdown",
   "metadata": {},
   "source": [
    "# Math Lab 3 - Allen Hart\n",
    "Solving Differential Equations Analytically\n",
    "\n",
    "These exercises are modified from the Ordinary Differential Equations *Mathematica* Laboratory from San Joaquin Delta College available <a href =\"http://calculuslab.deltacollege.edu/ODE/ODE-h.html\">here</a>.\n",
    "\n",
    "Goals: Use CAS to solve differential equations, including intial value problems; reflect on the learning."
   ]
  },
  {
   "cell_type": "markdown",
   "metadata": {},
   "source": [
    "## Part 1: Solving Differential Equations Analytically using SymPy\n",
    "\n",
    "For this part of the lab, follow along with the instructions available at the website linked above, specifically the section \"2. Differential Equations b. Solving Differential Equations Analytically\". <a href=\"http://calculuslab.deltacollege.edu/ODE/7-3/7-3-0-h.html\">Here is a direct link.</a>"
   ]
  },
  {
   "cell_type": "markdown",
   "metadata": {},
   "source": [
    "### Defining Symbolic Functions and Statements with SymPy\n",
    "Information below informed by <a href=\"https://stackoverflow.com/questions/37100053/how-to-define-a-mathematical-function-in-sympy#37122871\">this StackOverflow discussion</a>; updated throughout the completion of this lab as new learning happened in regard to defining symbolic functions in numerous ways."
   ]
  },
  {
   "cell_type": "code",
   "execution_count": 1,
   "metadata": {},
   "outputs": [],
   "source": [
    "from sympy import *\n",
    "import numpy as np\n",
    "init_printing() # tells SymPy to start printing output with LaTeX"
   ]
  },
  {
   "cell_type": "markdown",
   "metadata": {},
   "source": [
    "#### More than three ways to make a function with SymPy"
   ]
  },
  {
   "cell_type": "markdown",
   "metadata": {},
   "source": [
    "##### Undefined functions"
   ]
  },
  {
   "cell_type": "code",
   "execution_count": 2,
   "metadata": {},
   "outputs": [],
   "source": [
    "from sympy import Function, Symbol"
   ]
  },
  {
   "cell_type": "code",
   "execution_count": 3,
   "metadata": {},
   "outputs": [],
   "source": [
    "# Multiple ways to assign symbolic variables / undefined functions\n",
    "x = Symbol('x')\n",
    "x = symbols('x')\n",
    "y = symbols('y', cls=Function)(x)"
   ]
  },
  {
   "cell_type": "code",
   "execution_count": 4,
   "metadata": {},
   "outputs": [
    {
     "data": {
      "image/png": "[encoded data removed]",
      "text/latex": [
       "$$y{\\left (x \\right )}$$"
      ],
      "text/plain": [
       "y(x)"
      ]
     },
     "execution_count": 4,
     "metadata": {},
     "output_type": "execute_result"
    }
   ],
   "source": [
    "y"
   ]
  },
  {
   "cell_type": "code",
   "execution_count": 5,
   "metadata": {},
   "outputs": [
    {
     "data": {
      "text/plain": [
       "f"
      ]
     },
     "execution_count": 5,
     "metadata": {},
     "output_type": "execute_result"
    }
   ],
   "source": [
    "f = Function('f')\n",
    "f"
   ]
  },
  {
   "cell_type": "code",
   "execution_count": 6,
   "metadata": {},
   "outputs": [
    {
     "data": {
      "image/png": "[encoded data removed]",
      "text/latex": [
       "$$g{\\left (x \\right )}$$"
      ],
      "text/plain": [
       "g(x)"
      ]
     },
     "execution_count": 6,
     "metadata": {},
     "output_type": "execute_result"
    }
   ],
   "source": [
    "g = Function('g')(x)\n",
    "g"
   ]
  },
  {
   "cell_type": "code",
   "execution_count": 7,
   "metadata": {},
   "outputs": [
    {
     "data": {
      "image/png": "[encoded data removed]",
      "text/latex": [
       "$$f{\\left (x \\right )}$$"
      ],
      "text/plain": [
       "f(x)"
      ]
     },
     "execution_count": 7,
     "metadata": {},
     "output_type": "execute_result"
    }
   ],
   "source": [
    "f(x)"
   ]
  },
  {
   "cell_type": "code",
   "execution_count": 8,
   "metadata": {},
   "outputs": [
    {
     "data": {
      "image/png": "[encoded data removed]",
      "text/latex": [
       "$$\\frac{d}{d x} f{\\left (x \\right )}$$"
      ],
      "text/plain": [
       "d       \n",
       "──(f(x))\n",
       "dx      "
      ]
     },
     "execution_count": 8,
     "metadata": {},
     "output_type": "execute_result"
    }
   ],
   "source": [
    "f(x).diff(x)"
   ]
  },
  {
   "cell_type": "code",
   "execution_count": 9,
   "metadata": {},
   "outputs": [
    {
     "data": {
      "image/png": "[encoded data removed]",
      "text/latex": [
       "$$\\frac{d}{d x} g{\\left (x \\right )}$$"
      ],
      "text/plain": [
       "d       \n",
       "──(g(x))\n",
       "dx      "
      ]
     },
     "execution_count": 9,
     "metadata": {},
     "output_type": "execute_result"
    }
   ],
   "source": [
    "g.diff(x)"
   ]
  },
  {
   "cell_type": "code",
   "execution_count": 10,
   "metadata": {},
   "outputs": [
    {
     "data": {
      "text/plain": [
       "True"
      ]
     },
     "execution_count": 10,
     "metadata": {},
     "output_type": "execute_result"
    }
   ],
   "source": [
    "f_real = Function('f', real=True)\n",
    "f_real(x).is_real"
   ]
  },
  {
   "cell_type": "markdown",
   "metadata": {},
   "source": [
    "##### Defined functions\n",
    "\n",
    "With most common defined functions you can pass symbolic variables, single numeric values, as well as entire numpy arrays into them."
   ]
  },
  {
   "cell_type": "markdown",
   "metadata": {},
   "source": [
    "Define a function and feed numeric values through it:"
   ]
  },
  {
   "cell_type": "code",
   "execution_count": 11,
   "metadata": {},
   "outputs": [
    {
     "data": {
      "image/png": "[encoded data removed]",
      "text/latex": [
       "$$x^{2} + 1$$"
      ],
      "text/plain": [
       " 2    \n",
       "x  + 1"
      ]
     },
     "execution_count": 11,
     "metadata": {},
     "output_type": "execute_result"
    }
   ],
   "source": [
    "def f(x):\n",
    "    return x**2 + 1\n",
    "f(Symbol('x'))"
   ]
  },
  {
   "cell_type": "code",
   "execution_count": 12,
   "metadata": {},
   "outputs": [
    {
     "data": {
      "image/png": "[encoded data removed]",
      "text/latex": [
       "$$5$$"
      ],
      "text/plain": [
       "5"
      ]
     },
     "execution_count": 12,
     "metadata": {},
     "output_type": "execute_result"
    }
   ],
   "source": [
    "f(2)"
   ]
  },
  {
   "cell_type": "code",
   "execution_count": 13,
   "metadata": {},
   "outputs": [
    {
     "data": {
      "text/plain": [
       "array([ 5, 10], dtype=int32)"
      ]
     },
     "execution_count": 13,
     "metadata": {},
     "output_type": "execute_result"
    }
   ],
   "source": [
    "# single-variable functions can be applied to who numpy arrays\n",
    "import numpy as np\n",
    "f(np.array([2, 3]))"
   ]
  },
  {
   "cell_type": "markdown",
   "metadata": {},
   "source": [
    "Lambda functions:"
   ]
  },
  {
   "cell_type": "code",
   "execution_count": 14,
   "metadata": {},
   "outputs": [],
   "source": [
    "f = lambda x: x**2 + 1"
   ]
  },
  {
   "cell_type": "code",
   "execution_count": 15,
   "metadata": {},
   "outputs": [
    {
     "data": {
      "image/png": "[encoded data removed]",
      "text/latex": [
       "$$x^{2} + 1$$"
      ],
      "text/plain": [
       " 2    \n",
       "x  + 1"
      ]
     },
     "execution_count": 15,
     "metadata": {},
     "output_type": "execute_result"
    }
   ],
   "source": [
    "f(Symbol('x'))"
   ]
  },
  {
   "cell_type": "code",
   "execution_count": 16,
   "metadata": {},
   "outputs": [
    {
     "data": {
      "image/png": "[encoded data removed]",
      "text/latex": [
       "$$5$$"
      ],
      "text/plain": [
       "5"
      ]
     },
     "execution_count": 16,
     "metadata": {},
     "output_type": "execute_result"
    }
   ],
   "source": [
    "f(2)"
   ]
  },
  {
   "cell_type": "code",
   "execution_count": 17,
   "metadata": {},
   "outputs": [
    {
     "data": {
      "text/plain": [
       "array([ 5, 10], dtype=int32)"
      ]
     },
     "execution_count": 17,
     "metadata": {},
     "output_type": "execute_result"
    }
   ],
   "source": [
    "f(np.array([2, 3]))"
   ]
  },
  {
   "cell_type": "markdown",
   "metadata": {},
   "source": [
    "Assign an expression to a variable and use `f.subs()` to (a) plug a value in for a given symbolic variable in the expression or (b) pass a different variable into the function.\n",
    "\n",
    "Note that passing arrays does not work as intended."
   ]
  },
  {
   "cell_type": "code",
   "execution_count": 18,
   "metadata": {},
   "outputs": [],
   "source": [
    "f = x**2 + 1"
   ]
  },
  {
   "cell_type": "code",
   "execution_count": 19,
   "metadata": {},
   "outputs": [
    {
     "data": {
      "image/png": "[encoded data removed]",
      "text/latex": [
       "$$26$$"
      ],
      "text/plain": [
       "26"
      ]
     },
     "execution_count": 19,
     "metadata": {},
     "output_type": "execute_result"
    }
   ],
   "source": [
    "f.subs(x, 5)"
   ]
  },
  {
   "cell_type": "code",
   "execution_count": 20,
   "metadata": {},
   "outputs": [
    {
     "data": {
      "image/png": "[encoded data removed]",
      "text/latex": [
       "$$t^{2} + 1$$"
      ],
      "text/plain": [
       " 2    \n",
       "t  + 1"
      ]
     },
     "execution_count": 20,
     "metadata": {},
     "output_type": "execute_result"
    }
   ],
   "source": [
    "f.subs(x, Symbol('t'))"
   ]
  },
  {
   "cell_type": "code",
   "execution_count": 21,
   "metadata": {},
   "outputs": [
    {
     "data": {
      "image/png": "[encoded data removed]",
      "text/latex": [
       "$$x^{2} + 1$$"
      ],
      "text/plain": [
       " 2    \n",
       "x  + 1"
      ]
     },
     "execution_count": 21,
     "metadata": {},
     "output_type": "execute_result"
    }
   ],
   "source": [
    "# this does NOT work as intended\n",
    "f.subs(x, np.array([2, 3]))"
   ]
  },
  {
   "cell_type": "markdown",
   "metadata": {},
   "source": [
    "#### Differentiating Single Variable Functions"
   ]
  },
  {
   "cell_type": "markdown",
   "metadata": {},
   "source": [
    "##### Proper Syntax for taking derivatives"
   ]
  },
  {
   "cell_type": "code",
   "execution_count": 22,
   "metadata": {},
   "outputs": [],
   "source": [
    "# the following syntax will NOT work\n",
    "def f(x):\n",
    "    return x**2 + 1"
   ]
  },
  {
   "cell_type": "code",
   "execution_count": 23,
   "metadata": {},
   "outputs": [],
   "source": [
    "# the following syntax will NOT work\n",
    "f = lambda x: d**2 + 1"
   ]
  },
  {
   "cell_type": "code",
   "execution_count": 24,
   "metadata": {},
   "outputs": [
    {
     "data": {
      "image/png": "[encoded data removed]",
      "text/latex": [
       "$$2 x$$"
      ],
      "text/plain": [
       "2⋅x"
      ]
     },
     "execution_count": 24,
     "metadata": {},
     "output_type": "execute_result"
    }
   ],
   "source": [
    "# YES, CORRECT\n",
    "x = Symbol('x')\n",
    "f = x**2 + 1\n",
    "diff(f, x)"
   ]
  },
  {
   "cell_type": "markdown",
   "metadata": {},
   "source": [
    "##### Two ways to take a derivative symbolically"
   ]
  },
  {
   "cell_type": "code",
   "execution_count": 25,
   "metadata": {},
   "outputs": [],
   "source": [
    "# You can declare the derivative of an unknown function as follows:\n",
    "from sympy import Function, Derivative\n",
    "from sympy.abc import x      # x is the independent variable\n",
    "f = Function(\"f\")(x)         # f is a function of x"
   ]
  },
  {
   "cell_type": "code",
   "execution_count": 26,
   "metadata": {},
   "outputs": [
    {
     "data": {
      "image/png": "[encoded data removed]",
      "text/latex": [
       "$$\\frac{d}{d x} f{\\left (x \\right )}$$"
      ],
      "text/plain": [
       "d       \n",
       "──(f(x))\n",
       "dx      "
      ]
     },
     "execution_count": 26,
     "metadata": {},
     "output_type": "execute_result"
    }
   ],
   "source": [
    "f_ = Derivative(f, x)        # f_ will be the derivative of f with respect to x\n",
    "f_"
   ]
  },
  {
   "cell_type": "code",
   "execution_count": 27,
   "metadata": {},
   "outputs": [
    {
     "data": {
      "image/png": "[encoded data removed]",
      "text/latex": [
       "$$\\frac{d}{d x} f{\\left (x \\right )}$$"
      ],
      "text/plain": [
       "d       \n",
       "──(f(x))\n",
       "dx      "
      ]
     },
     "execution_count": 27,
     "metadata": {},
     "output_type": "execute_result"
    }
   ],
   "source": [
    "f.diff(x)"
   ]
  },
  {
   "cell_type": "markdown",
   "metadata": {},
   "source": [
    "##### Declaring Partial Derivatives\n",
    "Just as above, but declare a function of multiple variables"
   ]
  },
  {
   "cell_type": "code",
   "execution_count": 28,
   "metadata": {},
   "outputs": [
    {
     "data": {
      "image/png": "[encoded data removed]",
      "text/latex": [
       "$$\\frac{d}{d x} f{\\left (y{\\left (x \\right )} \\right )}$$"
      ],
      "text/plain": [
       "d          \n",
       "──(f(y(x)))\n",
       "dx         "
      ]
     },
     "execution_count": 28,
     "metadata": {},
     "output_type": "execute_result"
    }
   ],
   "source": [
    "f = Function(\"f\")(y)         # f is a function of x and y\n",
    "Derivative(f, x) "
   ]
  },
  {
   "cell_type": "markdown",
   "metadata": {},
   "source": [
    "### Solving Differentials Analytically using SymPy\n",
    "Ultimately we will want to use `dsolve`, so we'll explore the documented examples first, then approach the DeltaCollege example and incorporate SymPy's `dsolve` solver.\n",
    "\n",
    "__From docs:__\n",
    "sympy.solvers.ode.dsolve(eq, func=None, hint='default', simplify=True, ics=None, xi=None, eta=None, x0=0, n=6, **kwargs)\n",
    "\n",
    "*The code below can be found almost verbatim <a href=\"https://docs.sympy.org/latest/modules/solvers/ode.html\">here in the official SymPy docs.</a>. It has been modified/studied/explored by the student for the purposes of this lab.*"
   ]
  },
  {
   "cell_type": "markdown",
   "metadata": {},
   "source": [
    "#### Exploring SymPy Documentation"
   ]
  },
  {
   "cell_type": "code",
   "execution_count": 29,
   "metadata": {},
   "outputs": [],
   "source": [
    "# Run help to see documentation for what's happening in the coe below.\n",
    "# help(Derivative)\n",
    "# help(Eq)\n",
    "# help(Function)"
   ]
  },
  {
   "cell_type": "code",
   "execution_count": 111,
   "metadata": {},
   "outputs": [
    {
     "data": {
      "image/png": "[encoded data removed]",
      "text/latex": [
       "$$f{\\left (x \\right )} = C_{1} \\sin{\\left (3 x \\right )} + C_{2} \\cos{\\left (3 x \\right )}$$"
      ],
      "text/plain": [
       "f(x) = C₁⋅sin(3⋅x) + C₂⋅cos(3⋅x)"
      ]
     },
     "execution_count": 111,
     "metadata": {},
     "output_type": "execute_result"
    }
   ],
   "source": [
    "## This was copied from official documentation:\n",
    "from sympy import Function, dsolve, Eq, Derivative, sin, cos, symbols\n",
    "from sympy.abc import x\n",
    "\n",
    "f = Function('f')\n",
    "dsolve(Derivative(f(x), x, x) + 9*f(x), f(x))"
   ]
  },
  {
   "cell_type": "markdown",
   "metadata": {},
   "source": [
    "The cell above returns a representation of $f(x) = C_1sin(3x)+C_2cos(3x)$"
   ]
  },
  {
   "cell_type": "code",
   "execution_count": 112,
   "metadata": {},
   "outputs": [
    {
     "data": {
      "image/png": "[encoded data removed]",
      "text/latex": [
       "$$\\left [ f{\\left (x \\right )} = - \\operatorname{acos}{\\left (\\frac{C_{1}}{\\cos{\\left (x \\right )}} \\right )} + 2 \\pi, \\quad f{\\left (x \\right )} = \\operatorname{acos}{\\left (\\frac{C_{1}}{\\cos{\\left (x \\right )}} \\right )}\\right ]$$"
      ],
      "text/plain": [
       "⎡             ⎛  C₁  ⎞                   ⎛  C₁  ⎞⎤\n",
       "⎢f(x) = - acos⎜──────⎟ + 2⋅π, f(x) = acos⎜──────⎟⎥\n",
       "⎣             ⎝cos(x)⎠                   ⎝cos(x)⎠⎦"
      ]
     },
     "execution_count": 112,
     "metadata": {},
     "output_type": "execute_result"
    }
   ],
   "source": [
    "eq = sin(x)*cos(f(x)) + cos(x)*sin(f(x))*f(x).diff(x)\n",
    "dsolve(eq, hint='1st_exact') #`hint` specifies the method you'd like dsolve to use"
   ]
  },
  {
   "cell_type": "code",
   "execution_count": 113,
   "metadata": {},
   "outputs": [
    {
     "data": {
      "image/png": "[encoded data removed]",
      "text/latex": [
       "$$\\left [ f{\\left (x \\right )} = - \\operatorname{acos}{\\left (\\frac{C_{1}}{\\cos{\\left (x \\right )}} \\right )} + 2 \\pi, \\quad f{\\left (x \\right )} = \\operatorname{acos}{\\left (\\frac{C_{1}}{\\cos{\\left (x \\right )}} \\right )}\\right ]$$"
      ],
      "text/plain": [
       "⎡             ⎛  C₁  ⎞                   ⎛  C₁  ⎞⎤\n",
       "⎢f(x) = - acos⎜──────⎟ + 2⋅π, f(x) = acos⎜──────⎟⎥\n",
       "⎣             ⎝cos(x)⎠                   ⎝cos(x)⎠⎦"
      ]
     },
     "execution_count": 113,
     "metadata": {},
     "output_type": "execute_result"
    }
   ],
   "source": [
    "dsolve(eq, hint='almost_linear')"
   ]
  },
  {
   "cell_type": "markdown",
   "metadata": {},
   "source": [
    "Note: acos() = arccos()\n",
    "\n",
    "If you do not classify a hint `dsolve` will use whatever hint is returned first by `classify_ode` (see below)."
   ]
  },
  {
   "cell_type": "code",
   "execution_count": 114,
   "metadata": {},
   "outputs": [
    {
     "data": {
      "text/plain": [
       "('separable',\n",
       " '1st_exact',\n",
       " 'almost_linear',\n",
       " '1st_power_series',\n",
       " 'lie_group',\n",
       " 'separable_Integral',\n",
       " '1st_exact_Integral',\n",
       " 'almost_linear_Integral')"
      ]
     },
     "execution_count": 114,
     "metadata": {},
     "output_type": "execute_result"
    }
   ],
   "source": [
    "# this gives all the possible hints for a particular ODE\n",
    "classify_ode(eq, f(x))"
   ]
  },
  {
   "cell_type": "code",
   "execution_count": 115,
   "metadata": {},
   "outputs": [
    {
     "data": {
      "image/png": "[encoded data removed]",
      "text/latex": [
       "$$f{\\left (x \\right )} = - \\frac{x^{2} \\cos{\\left (C_{1} \\right )}}{2 \\sin{\\left (C_{1} \\right )}} + \\frac{x^{4} \\left(-5 - \\frac{3 \\cos^{2}{\\left (C_{1} \\right )}}{\\sin^{2}{\\left (C_{1} \\right )}}\\right) \\cos{\\left (C_{1} \\right )}}{24 \\sin{\\left (C_{1} \\right )}} + C_{1} + O\\left(x^{6}\\right)$$"
      ],
      "text/plain": [
       "                         ⎛          2    ⎞                     \n",
       "                       4 ⎜     3⋅cos (C₁)⎟                     \n",
       "                      x ⋅⎜-5 - ──────────⎟⋅cos(C₁)             \n",
       "          2              ⎜         2     ⎟                     \n",
       "         x ⋅cos(C₁)      ⎝      sin (C₁) ⎠                 ⎛ 6⎞\n",
       "f(x) = - ────────── + ──────────────────────────── + C₁ + O⎝x ⎠\n",
       "         2⋅sin(C₁)             24⋅sin(C₁)                      "
      ]
     },
     "execution_count": 115,
     "metadata": {},
     "output_type": "execute_result"
    }
   ],
   "source": [
    "dsolve(eq, hint='1st_power_series')"
   ]
  },
  {
   "cell_type": "code",
   "execution_count": 116,
   "metadata": {},
   "outputs": [
    {
     "data": {
      "image/png": "[encoded data removed]",
      "text/latex": [
       "$$\\left [ x{\\left (t \\right )} = C_{1} \\operatorname{x_{0}}{\\left (t \\right )} + C_{2} \\operatorname{x_{0}}{\\left (t \\right )} \\int \\frac{8 \\left(e^{\\int 7 t\\, dt}\\right) e^{\\int 12 t\\, dt}}{\\operatorname{x_{0}}^{2}{\\left (t \\right )}}\\, dt, \\quad y{\\left (t \\right )} = C_{1} \\operatorname{y_{0}}{\\left (t \\right )} + C_{2} \\left(\\operatorname{y_{0}}{\\left (t \\right )} \\int \\frac{8 \\left(e^{\\int 7 t\\, dt}\\right) e^{\\int 12 t\\, dt}}{\\operatorname{x_{0}}^{2}{\\left (t \\right )}}\\, dt + \\frac{\\left(e^{\\int 7 t\\, dt}\\right) e^{\\int 12 t\\, dt}}{\\operatorname{x_{0}}{\\left (t \\right )}}\\right)\\right ]$$"
      ],
      "text/plain": [
       "⎡                           ⌠                                                 \n",
       "⎢                           ⎮    ⌠         ⌠                                  \n",
       "⎢                           ⎮    ⎮ 7⋅t dt  ⎮ 12⋅t dt                          \n",
       "⎢                           ⎮    ⌡         ⌡                                  \n",
       "⎢                           ⎮ 8⋅ℯ        ⋅ℯ                                   \n",
       "⎢x(t) = C₁⋅x₀(t) + C₂⋅x₀(t)⋅⎮ ────────────────────── dt, y(t) = C₁⋅y₀(t) + C₂⋅\n",
       "⎢                           ⎮           2                                     \n",
       "⎢                           ⎮         x₀ (t)                                  \n",
       "⎣                           ⌡                                                 \n",
       "\n",
       "⎛      ⌠                                                 ⎞⎤\n",
       "⎜      ⎮    ⌠         ⌠               ⌠         ⌠        ⎟⎥\n",
       "⎜      ⎮    ⎮ 7⋅t dt  ⎮ 12⋅t dt       ⎮ 7⋅t dt  ⎮ 12⋅t dt⎟⎥\n",
       "⎜      ⎮    ⌡         ⌡               ⌡         ⌡        ⎟⎥\n",
       "⎜      ⎮ 8⋅ℯ        ⋅ℯ               ℯ        ⋅ℯ         ⎟⎥\n",
       "⎜y₀(t)⋅⎮ ────────────────────── dt + ────────────────────⎟⎥\n",
       "⎜      ⎮           2                        x₀(t)        ⎟⎥\n",
       "⎜      ⎮         x₀ (t)                                  ⎟⎥\n",
       "⎝      ⌡                                                 ⎠⎦"
      ]
     },
     "execution_count": 116,
     "metadata": {},
     "output_type": "execute_result"
    }
   ],
   "source": [
    "t = symbols('t')\n",
    "x, y = symbols('x, y', cls=Function)\n",
    "eq = (Eq(Derivative(x(t),t), 12*t*x(t) + 8*y(t)), Eq(Derivative(y(t),t), 21*x(t) + 7*t*y(t)))\n",
    "dsolve(eq)"
   ]
  },
  {
   "cell_type": "code",
   "execution_count": 117,
   "metadata": {},
   "outputs": [
    {
     "data": {
      "image/png": "[encoded data removed]",
      "text/latex": [
       "$$\\left\\{x{\\left (t \\right )} = - \\frac{e^{C_{1}}}{C_{2} e^{C_{1}} - \\cos{\\left (t \\right )}}, y{\\left (t \\right )} = - \\frac{1}{C_{1} - \\cos{\\left (t \\right )}}\\right\\}$$"
      ],
      "text/plain": [
       "⎧              C₁                          ⎫\n",
       "⎪            -ℯ                     -1     ⎪\n",
       "⎨x(t) = ───────────────, y(t) = ───────────⎬\n",
       "⎪           C₁                  C₁ - cos(t)⎪\n",
       "⎩       C₂⋅ℯ   - cos(t)                    ⎭"
      ]
     },
     "execution_count": 117,
     "metadata": {},
     "output_type": "execute_result"
    }
   ],
   "source": [
    "eq = (Eq(Derivative(x(t),t),x(t)*y(t)*sin(t)), Eq(Derivative(y(t),t),y(t)**2*sin(t)))\n",
    "dsolve(eq)"
   ]
  },
  {
   "cell_type": "markdown",
   "metadata": {},
   "source": [
    "### Solving Differentials Analytically using `sympy.integrate`\n",
    "\n"
   ]
  },
  {
   "cell_type": "markdown",
   "metadata": {},
   "source": [
    "#### First Example From Delta College\n",
    "\n",
    "Suppose we have the separable, ordinary differential equation $$2xe^{x^2} dx = sin^2(y)cos(y) dy$$\n",
    "\n",
    "The first thing we want to do is __integrate both sides symbolically__ using SymPy:"
   ]
  },
  {
   "cell_type": "markdown",
   "metadata": {},
   "source": [
    "<a href=\"https://docs.sympy.org/latest/modules/integrals/integrals.html\">Symbolic Integrations with SymPy Documentation</a>"
   ]
  },
  {
   "cell_type": "code",
   "execution_count": 118,
   "metadata": {},
   "outputs": [],
   "source": [
    "# NOTE: DO NOT USE NUMPY NUMERIC FUNCTIONS IN EQUATIONS (such as np.exp(), np.sin(), etc.)\n",
    "# or Error: 'int' object not callable. Must use SymPy functions.\n",
    "\n",
    "x, y = symbols('x y')\n",
    "left = 2*x*E**(x**2)\n",
    "right = (sin(y)**2)*(cos(y))"
   ]
  },
  {
   "cell_type": "code",
   "execution_count": 119,
   "metadata": {},
   "outputs": [
    {
     "data": {
      "image/png": "[encoded data removed]",
      "text/latex": [
       "$$e^{x^{2}}$$"
      ],
      "text/plain": [
       " ⎛ 2⎞\n",
       " ⎝x ⎠\n",
       "ℯ    "
      ]
     },
     "execution_count": 119,
     "metadata": {},
     "output_type": "execute_result"
    }
   ],
   "source": [
    "integrate(left, x)"
   ]
  },
  {
   "cell_type": "code",
   "execution_count": 120,
   "metadata": {},
   "outputs": [
    {
     "data": {
      "image/png": "[encoded data removed]",
      "text/latex": [
       "$$\\frac{\\sin^{3}{\\left (y \\right )}}{3}$$"
      ],
      "text/plain": [
       "   3   \n",
       "sin (y)\n",
       "───────\n",
       "   3   "
      ]
     },
     "execution_count": 120,
     "metadata": {},
     "output_type": "execute_result"
    }
   ],
   "source": [
    "integrate(right, y)"
   ]
  },
  {
   "cell_type": "markdown",
   "metadata": {},
   "source": [
    "Reading the unicode output carefully, we see that the following are returned: $$\\int2xe^{x^2} dx = e^2$$ $$\\int sin^2(y)cos(y) dy = \\frac{sin(t)^3}{3}$$\n",
    "\n",
    "as expected."
   ]
  },
  {
   "cell_type": "markdown",
   "metadata": {},
   "source": [
    "Knowing what we know, we set these equal to each other and account for the integration constant and we know that $$e^2 + C =  \\frac{sin(t)^3}{3}$$\n",
    "\n",
    "This is all good, but we want SymPy to take in the original equality and output the solution equality without us having to split it into two integrals and account for the integration constant by hand. We want the computer system to do all of this for us. According to the __DeltaCollege Mathematica Guide__, *Mathematica's* `DSolve` function requires the input to be not in differential form as above, but in derivative form."
   ]
  },
  {
   "cell_type": "markdown",
   "metadata": {},
   "source": [
    "### Solving Differentials Analytically using `sympy.solvers.ode.dsolve`\n",
    "\n",
    "We pick up here at <a href=\"http://calculuslab.deltacollege.edu/ODE/7-3/7-3-1-b-ma.html\">this point</a> in the DeltaCollege guide, where the guide begins talking about changing our differential from differential form (with integrals) to derivative form with prime notation.\n",
    "\n",
    "__From docs:__\n",
    "sympy.solvers.ode.dsolve(eq, func=None, hint='default', simplify=True, ics=None, xi=None, eta=None, x0=0, n=6, **kwargs)\n",
    "\n",
    "<a href=\"https://docs.sympy.org/latest/modules/solvers/ode.html\">See here the official SymPy docs</a> "
   ]
  },
  {
   "cell_type": "markdown",
   "metadata": {},
   "source": [
    "We started with our differential in this form, the __differential form__: $$2xe^{x^2} dx = sin^2(y)cos(y) dy$$\n",
    "\n",
    "In order to get it into __derivative form__ we divide both sides by `dx` to get $$2xe^{x^2} = sin^2(y)cos(y) \\frac{dy}{dx}$$\n",
    "\n",
    "And change to prime notation: $$2xe^{x^2} = sin^2(y) cos(y) y'$$"
   ]
  },
  {
   "cell_type": "markdown",
   "metadata": {},
   "source": [
    "Next we need to address how to feed this into SymPy's `dsolve` function. \n",
    "\n",
    "The first question is how to approapriately express the equality between the left and right sides. For this we will use a function detailed abov the the examples from SymPy's documentation; the function is called `Eq()`. \n",
    "\n",
    "We cannot use `=` because this only can be used to assign a value to a variable in Python. We cannot use `==` because this is a logical expression that does not work on SymPy's machinery for symbolic analysis."
   ]
  },
  {
   "cell_type": "markdown",
   "metadata": {},
   "source": [
    "#### Setting equalities with `Eq()`\n",
    "`Eq()` symbolically says that two objects are equal."
   ]
  },
  {
   "cell_type": "code",
   "execution_count": 121,
   "metadata": {},
   "outputs": [
    {
     "data": {
      "image/png": "[encoded data removed]",
      "text/latex": [
       "$$\\mathrm{False}$$"
      ],
      "text/plain": [
       "False"
      ]
     },
     "execution_count": 121,
     "metadata": {},
     "output_type": "execute_result"
    }
   ],
   "source": [
    "Eq(2, 5)"
   ]
  },
  {
   "cell_type": "code",
   "execution_count": 122,
   "metadata": {},
   "outputs": [
    {
     "data": {
      "image/png": "[encoded data removed]",
      "text/latex": [
       "$$2 = 5$$"
      ],
      "text/plain": [
       "2 = 5"
      ]
     },
     "execution_count": 122,
     "metadata": {},
     "output_type": "execute_result"
    }
   ],
   "source": [
    "Eq(2, 5, evaluate=False)"
   ]
  },
  {
   "cell_type": "code",
   "execution_count": 123,
   "metadata": {},
   "outputs": [
    {
     "data": {
      "image/png": "[encoded data removed]",
      "text/latex": [
       "$$\\mathrm{False}$$"
      ],
      "text/plain": [
       "False"
      ]
     },
     "execution_count": 123,
     "metadata": {},
     "output_type": "execute_result"
    }
   ],
   "source": [
    "__.doit()"
   ]
  },
  {
   "cell_type": "code",
   "execution_count": 124,
   "metadata": {},
   "outputs": [
    {
     "data": {
      "image/png": "[encoded data removed]",
      "text/latex": [
       "$$2 x = 3 y$$"
      ],
      "text/plain": [
       "2⋅x = 3⋅y"
      ]
     },
     "execution_count": 124,
     "metadata": {},
     "output_type": "execute_result"
    }
   ],
   "source": [
    "x, y = symbols('x y')\n",
    "Eq(2*x, 3*y)"
   ]
  },
  {
   "cell_type": "markdown",
   "metadata": {},
   "source": [
    "#### Exploring `ode.dsolve`"
   ]
  },
  {
   "cell_type": "markdown",
   "metadata": {},
   "source": [
    "Code below was informed by <a href=\"https://www.packtpub.com/mapt/book/big_data_and_business_intelligence/9781783984749/5/ch05lvl1sec27/symbolic-solution-of-differential-equations#!\">free previews of this resource</a>, which required a free acount in order to view at the time this math lab exploration.\n",
    "\n",
    "Let $$y = f(t)$$  $$y' = f'(t)$$\n",
    "\n",
    "below `f(t).diff(t) - f(t)` represents $y' - y$ and what we feed into the solver is `equation1`, which is in mathematical notation $$F(y(t), y'(t)) = 0$$"
   ]
  },
  {
   "cell_type": "markdown",
   "metadata": {},
   "source": [
    "##### `classify_ode()`"
   ]
  },
  {
   "cell_type": "code",
   "execution_count": 125,
   "metadata": {},
   "outputs": [
    {
     "data": {
      "text/plain": [
       "('separable',\n",
       " '1st_exact',\n",
       " '1st_linear',\n",
       " 'almost_linear',\n",
       " '1st_power_series',\n",
       " 'lie_group',\n",
       " 'nth_linear_constant_coeff_homogeneous',\n",
       " 'separable_Integral',\n",
       " '1st_exact_Integral',\n",
       " '1st_linear_Integral',\n",
       " 'almost_linear_Integral')"
      ]
     },
     "execution_count": 125,
     "metadata": {},
     "output_type": "execute_result"
    }
   ],
   "source": [
    "from sympy.solvers import ode\n",
    "t = symbols('t')\n",
    "f = Function('f')\n",
    "equation1 = f(t).diff(t) - f(t)\n",
    "ode.classify_ode(equation1)"
   ]
  },
  {
   "cell_type": "code",
   "execution_count": 126,
   "metadata": {},
   "outputs": [
    {
     "data": {
      "image/png": "[encoded data removed]",
      "text/latex": [
       "$$f{\\left (t \\right )} = C_{1} e^{t}$$"
      ],
      "text/plain": [
       "           t\n",
       "f(t) = C₁⋅ℯ "
      ]
     },
     "execution_count": 126,
     "metadata": {},
     "output_type": "execute_result"
    }
   ],
   "source": [
    "ode.dsolve(equation1, hint='separable')"
   ]
  },
  {
   "cell_type": "code",
   "execution_count": 127,
   "metadata": {},
   "outputs": [
    {
     "data": {
      "image/png": "[encoded data removed]",
      "text/latex": [
       "$$f{\\left (t \\right )} = C_{1} + C_{1} t + \\frac{C_{1} t^{2}}{2} + \\frac{C_{1} t^{3}}{6} + O\\left(t^{4}\\right)$$"
      ],
      "text/plain": [
       "                       2       3        \n",
       "                   C₁⋅t    C₁⋅t     ⎛ 4⎞\n",
       "f(t) = C₁ + C₁⋅t + ───── + ───── + O⎝t ⎠\n",
       "                     2       6          "
      ]
     },
     "execution_count": 127,
     "metadata": {},
     "output_type": "execute_result"
    }
   ],
   "source": [
    "ode.dsolve(equation1, hint='1st_power_series', n=4, x0=0.0)"
   ]
  },
  {
   "cell_type": "markdown",
   "metadata": {},
   "source": [
    "Note: Solving initial value problems is possible, but at the time of publishing of <a href=\"\">the e-book that is being use here</a>, only as a power series of first order differential equations. "
   ]
  },
  {
   "cell_type": "code",
   "execution_count": 128,
   "metadata": {},
   "outputs": [
    {
     "data": {
      "image/png": "[encoded data removed]",
      "text/latex": [
       "$$f{\\left (t \\right )} = 1.0 + 1.0 t + 0.5 t^{2} + O\\left(t^{3}\\right)$$"
      ],
      "text/plain": [
       "                          2    ⎛ 3⎞\n",
       "f(t) = 1.0 + 1.0⋅t + 0.5⋅t  + O⎝t ⎠"
      ]
     },
     "execution_count": 128,
     "metadata": {},
     "output_type": "execute_result"
    }
   ],
   "source": [
    "# note that the ics parameter stands for \"initial conditions\",\n",
    "# which in this case are f(0) = 1\n",
    "ode.dsolve(equation1, hint='1st_power_series', n=3, x0=0, ics={f(0.0): 1.0})"
   ]
  },
  {
   "cell_type": "markdown",
   "metadata": {},
   "source": [
    "### San Joaquin Delta College Lab Problems"
   ]
  },
  {
   "cell_type": "markdown",
   "metadata": {},
   "source": [
    "#### __First Problem: Solved!__"
   ]
  },
  {
   "cell_type": "markdown",
   "metadata": {},
   "source": [
    "##### Solving Differentials with Symbolically Defined Functions\n",
    "\n",
    "We've seen how to solve differentials with wholly undefined functions. Recalling that we are on a quest to solve $2xe^{x^2} = sin^2(y) cos(y) y'$, we need to find the keys that will allow us to do so using SymPy and Python"
   ]
  },
  {
   "cell_type": "code",
   "execution_count": 129,
   "metadata": {},
   "outputs": [],
   "source": [
    "from sympy import *\n",
    "import numpy as np\n",
    "init_printing()  # tells SymPy to start printing output with LaTeX\n",
    "\n",
    "x = symbols('x')\n",
    "y = Function('y')(x)\n",
    "left = 2*x*E**(x**2)\n",
    "right = (sin(y)**2)*(cos(y))\n",
    "y_ = Derivative(y, x)\n",
    "test_equation1 = y_ - y"
   ]
  },
  {
   "cell_type": "code",
   "execution_count": 130,
   "metadata": {},
   "outputs": [
    {
     "data": {
      "image/png": "[encoded data removed]",
      "text/latex": [
       "$$y{\\left (x \\right )}$$"
      ],
      "text/plain": [
       "y(x)"
      ]
     },
     "execution_count": 130,
     "metadata": {},
     "output_type": "execute_result"
    }
   ],
   "source": [
    "# we have declared y as a function of x, y(x)\n",
    "y"
   ]
  },
  {
   "cell_type": "code",
   "execution_count": 131,
   "metadata": {},
   "outputs": [
    {
     "data": {
      "image/png": "[encoded data removed]",
      "text/latex": [
       "$$\\frac{d}{d x} y{\\left (x \\right )}$$"
      ],
      "text/plain": [
       "d       \n",
       "──(y(x))\n",
       "dx      "
      ]
     },
     "execution_count": 131,
     "metadata": {},
     "output_type": "execute_result"
    }
   ],
   "source": [
    "# we have declared y' = y_ = dy/dx\n",
    "y_"
   ]
  },
  {
   "cell_type": "code",
   "execution_count": 132,
   "metadata": {},
   "outputs": [
    {
     "data": {
      "image/png": "[encoded data removed]",
      "text/latex": [
       "$$- y{\\left (x \\right )} + \\frac{d}{d x} y{\\left (x \\right )}$$"
      ],
      "text/plain": [
       "        d       \n",
       "-y(x) + ──(y(x))\n",
       "        dx      "
      ]
     },
     "execution_count": 132,
     "metadata": {},
     "output_type": "execute_result"
    }
   ],
   "source": [
    "# we can test out solving a basic differential for the following equation\n",
    "test_equation1"
   ]
  },
  {
   "cell_type": "code",
   "execution_count": 133,
   "metadata": {},
   "outputs": [
    {
     "data": {
      "image/png": "[encoded data removed]",
      "text/latex": [
       "$$y{\\left (x \\right )} = C_{1} e^{x}$$"
      ],
      "text/plain": [
       "           x\n",
       "y(x) = C₁⋅ℯ "
      ]
     },
     "execution_count": 133,
     "metadata": {},
     "output_type": "execute_result"
    }
   ],
   "source": [
    "# and we get the result that we would expect\n",
    "dsolve(test_equation1)"
   ]
  },
  {
   "cell_type": "code",
   "execution_count": 134,
   "metadata": {},
   "outputs": [
    {
     "data": {
      "image/png": "[encoded data removed]",
      "text/latex": [
       "$$2 x e^{x^{2}} = \\sin^{2}{\\left (y{\\left (x \\right )} \\right )} \\cos{\\left (y{\\left (x \\right )} \\right )} \\frac{d}{d x} y{\\left (x \\right )}$$"
      ],
      "text/plain": [
       "     ⎛ 2⎞                                \n",
       "     ⎝x ⎠      2                 d       \n",
       "2⋅x⋅ℯ     = sin (y(x))⋅cos(y(x))⋅──(y(x))\n",
       "                                 dx      "
      ]
     },
     "execution_count": 134,
     "metadata": {},
     "output_type": "execute_result"
    }
   ],
   "source": [
    "# so we can define our separable function as an equality as we normally would\n",
    "Eq(left, right*y_)"
   ]
  },
  {
   "cell_type": "code",
   "execution_count": 135,
   "metadata": {},
   "outputs": [
    {
     "data": {
      "text/plain": [
       "('separable',\n",
       " '1st_exact',\n",
       " '1st_power_series',\n",
       " 'lie_group',\n",
       " 'separable_Integral',\n",
       " '1st_exact_Integral')"
      ]
     },
     "execution_count": 135,
     "metadata": {},
     "output_type": "execute_result"
    }
   ],
   "source": [
    "# check out the recommended methods for solving it\n",
    "ode.classify_ode(Eq(left, right*y_))"
   ]
  },
  {
   "cell_type": "code",
   "execution_count": 136,
   "metadata": {},
   "outputs": [
    {
     "data": {
      "image/png": "[encoded data removed]",
      "text/latex": [
       "$$\\left [ y{\\left (x \\right )} = - \\operatorname{asin}{\\left (\\sqrt[3]{C_{1} + 3 e^{x^{2}}} \\right )} + \\pi, \\quad y{\\left (x \\right )} = \\operatorname{asin}{\\left (\\frac{\\left(\\sqrt[3]{3} - 3^{\\frac{5}{6}} i\\right) \\sqrt[3]{C_{1} + e^{x^{2}}}}{2} \\right )} + \\pi, \\quad y{\\left (x \\right )} = \\operatorname{asin}{\\left (\\frac{\\left(\\sqrt[3]{3} + 3^{\\frac{5}{6}} i\\right) \\sqrt[3]{C_{1} + e^{x^{2}}}}{2} \\right )} + \\pi, \\quad y{\\left (x \\right )} = \\operatorname{asin}{\\left (\\sqrt[3]{C_{1} + 3 e^{x^{2}}} \\right )}, \\quad y{\\left (x \\right )} = - \\operatorname{asin}{\\left (\\frac{\\left(\\sqrt[3]{3} - 3^{\\frac{5}{6}} i\\right) \\sqrt[3]{C_{1} + e^{x^{2}}}}{2} \\right )}, \\quad y{\\left (x \\right )} = - \\operatorname{asin}{\\left (\\frac{\\left(\\sqrt[3]{3} + 3^{\\frac{5}{6}} i\\right) \\sqrt[3]{C_{1} + e^{x^{2}}}}{2} \\right )}\\right ]$$"
      ],
      "text/plain": [
       "⎡                                                  ⎛                     _____\n",
       "⎢             ⎛    ______________⎞                 ⎜                    ╱     \n",
       "⎢             ⎜   ╱         ⎛ 2⎞ ⎟                 ⎜⎛3 ___    5/6  ⎞ 3 ╱      \n",
       "⎢             ⎜3 ╱          ⎝x ⎠ ⎟                 ⎜⎝╲╱ 3  - 3   ⋅ⅈ⎠⋅╲╱   C₁ +\n",
       "⎢y(x) = - asin⎝╲╱   C₁ + 3⋅ℯ     ⎠ + π, y(x) = asin⎜──────────────────────────\n",
       "⎣                                                  ⎝                2         \n",
       "\n",
       "_______⎞                 ⎛                     ____________⎞                  \n",
       "  ⎛ 2⎞ ⎟                 ⎜                    ╱       ⎛ 2⎞ ⎟                 ⎛\n",
       "  ⎝x ⎠ ⎟                 ⎜⎛3 ___    5/6  ⎞ 3 ╱        ⎝x ⎠ ⎟                 ⎜\n",
       " ℯ     ⎟                 ⎜⎝╲╱ 3  + 3   ⋅ⅈ⎠⋅╲╱   C₁ + ℯ     ⎟                 ⎜\n",
       "───────⎟ + π, y(x) = asin⎜─────────────────────────────────⎟ + π, y(x) = asin⎝\n",
       "       ⎠                 ⎝                2                ⎠                  \n",
       "\n",
       "                                 ⎛                     ____________⎞          \n",
       "    ______________⎞              ⎜                    ╱       ⎛ 2⎞ ⎟          \n",
       "   ╱         ⎛ 2⎞ ⎟              ⎜⎛3 ___    5/6  ⎞ 3 ╱        ⎝x ⎠ ⎟          \n",
       "3 ╱          ⎝x ⎠ ⎟              ⎜⎝╲╱ 3  - 3   ⋅ⅈ⎠⋅╲╱   C₁ + ℯ     ⎟          \n",
       "╲╱   C₁ + 3⋅ℯ     ⎠, y(x) = -asin⎜─────────────────────────────────⎟, y(x) = -\n",
       "                                 ⎝                2                ⎠          \n",
       "\n",
       "    ⎛                     ____________⎞⎤\n",
       "    ⎜                    ╱       ⎛ 2⎞ ⎟⎥\n",
       "    ⎜⎛3 ___    5/6  ⎞ 3 ╱        ⎝x ⎠ ⎟⎥\n",
       "    ⎜⎝╲╱ 3  + 3   ⋅ⅈ⎠⋅╲╱   C₁ + ℯ     ⎟⎥\n",
       "asin⎜─────────────────────────────────⎟⎥\n",
       "    ⎝                2                ⎠⎦"
      ]
     },
     "execution_count": 136,
     "metadata": {},
     "output_type": "execute_result"
    }
   ],
   "source": [
    "# and then solve it\n",
    "dsolve(Eq(left, right*y_))"
   ]
  },
  {
   "cell_type": "code",
   "execution_count": 137,
   "metadata": {},
   "outputs": [
    {
     "data": {
      "image/png": "[encoded data removed]",
      "text/latex": [
       "$$y{\\left (x \\right )} = \\frac{x^{2}}{\\sin^{2}{\\left (C_{1} \\right )} \\cos{\\left (C_{1} \\right )}} + \\frac{x^{4} \\left(\\frac{\\frac{1}{\\cos^{2}{\\left (C_{1} \\right )}} - \\frac{2}{\\sin^{2}{\\left (C_{1} \\right )}}}{\\sin{\\left (C_{1} \\right )}} + 1\\right)}{2 \\sin^{2}{\\left (C_{1} \\right )} \\cos{\\left (C_{1} \\right )}} + C_{1} + O\\left(x^{6}\\right)$$"
      ],
      "text/plain": [
       "                             ⎛   1          2        ⎞             \n",
       "                             ⎜──────── - ────────    ⎟             \n",
       "                             ⎜   2          2        ⎟             \n",
       "                           4 ⎜cos (C₁)   sin (C₁)    ⎟             \n",
       "               2          x ⋅⎜─────────────────── + 1⎟             \n",
       "              x              ⎝      sin(C₁)          ⎠         ⎛ 6⎞\n",
       "y(x) = ──────────────── + ──────────────────────────── + C₁ + O⎝x ⎠\n",
       "          2                         2                              \n",
       "       sin (C₁)⋅cos(C₁)        2⋅sin (C₁)⋅cos(C₁)                  "
      ]
     },
     "execution_count": 137,
     "metadata": {},
     "output_type": "execute_result"
    }
   ],
   "source": [
    "# choose the 'best' hint to try \n",
    "dsolve(Eq(left, right*y_), hint='best')"
   ]
  },
  {
   "cell_type": "markdown",
   "metadata": {},
   "source": [
    "As we can see above we got several results. If we take a look at the <a href=\"http://calculuslab.deltacollege.edu/ODE/7-3/7-3-1-d-ma.html\">Delta College *mathematica* lab</a>, it illuminates that some of these are (as the imaginary $i$ would reveal in the output above) complex results.\n",
    "\n",
    "One thing that is currently going unexplained is that these results are different form the ones found by the author of the Delta College lab. Will have to look into this. An image of the results is embedded below:\n",
    "\n",
    "<img src=\"http://calculuslab.deltacollege.edu/ODE/7-3/ODE%207-3-1d2.png\"></img>"
   ]
  },
  {
   "cell_type": "markdown",
   "metadata": {},
   "source": [
    "#### Second Lab Problem\n",
    "<a href=\"http://calculuslab.deltacollege.edu/ODE/7-3/7-3-2-ma.html\">Found here.</a>\n",
    "\n",
    "We are given: $(2xy+3)dx+(x^2-1)dy = 0$\n",
    "\n",
    "This needs to be rewritten in derivative form. $$(2xy+3) = -(x^2-1)\\frac{dy}{dx}$$"
   ]
  },
  {
   "cell_type": "code",
   "execution_count": 138,
   "metadata": {},
   "outputs": [],
   "source": [
    "from sympy import *\n",
    "import numpy as np\n",
    "init_printing()\n",
    "\n",
    "x = symbols('x')\n",
    "y = Function('y')(x)\n",
    "\n",
    "left = 2*x*y + 3\n",
    "right = -(x**2 - 1)\n",
    "\n",
    "y_ = Derivative(y, x)"
   ]
  },
  {
   "cell_type": "code",
   "execution_count": 139,
   "metadata": {},
   "outputs": [
    {
     "data": {
      "image/png": "[encoded data removed]",
      "text/latex": [
       "$$y{\\left (x \\right )} = \\frac{C_{1} - 3 x}{x^{2} - 1}$$"
      ],
      "text/plain": [
       "       C₁ - 3⋅x\n",
       "y(x) = ────────\n",
       "         2     \n",
       "        x  - 1 "
      ]
     },
     "execution_count": 139,
     "metadata": {},
     "output_type": "execute_result"
    }
   ],
   "source": [
    "dsolve(Eq(left, right*y_))"
   ]
  },
  {
   "cell_type": "markdown",
   "metadata": {},
   "source": [
    "This result is consistent with the DeltaCollege article."
   ]
  },
  {
   "cell_type": "markdown",
   "metadata": {},
   "source": [
    "#### Third Lab Problem\n",
    "$$(ye^{xy}-\\frac{1}{y})dx+(xe^{xy}+\\frac{x}{y^2})dy=0$$\n",
    "\n",
    "becomes $$-\\frac{(ye^{xy}-\\frac{1}{y})}{(xe^{xy}+\\frac{x}{y^2})}=\\frac{dy}{dx}$$"
   ]
  },
  {
   "cell_type": "code",
   "execution_count": 140,
   "metadata": {},
   "outputs": [],
   "source": [
    "from sympy import *\n",
    "import numpy as np\n",
    "from sympy.solvers import ode\n",
    "init_printing()\n",
    "\n",
    "x = symbols('x')\n",
    "# another way to assign a symbolic function to a variable\n",
    "y = symbols('y', cls=Function)(x)\n",
    "\n",
    "top = (y * E**(x*y) - (1 / y))\n",
    "bottom = -(x * E**(x*y) + (x / y**2))\n",
    "\n",
    "y_ = Derivative(y, x)"
   ]
  },
  {
   "cell_type": "code",
   "execution_count": 141,
   "metadata": {},
   "outputs": [
    {
     "data": {
      "text/plain": [
       "('1st_exact', 'lie_group', '1st_exact_Integral')"
      ]
     },
     "execution_count": 141,
     "metadata": {},
     "output_type": "execute_result"
    }
   ],
   "source": [
    "classify_ode(Eq(top, bottom*y_))"
   ]
  },
  {
   "cell_type": "code",
   "execution_count": 142,
   "metadata": {},
   "outputs": [
    {
     "data": {
      "image/png": "[encoded data removed]",
      "text/latex": [
       "$$- \\frac{x}{y{\\left (x \\right )}} + e^{x y{\\left (x \\right )}} = C_{1}$$"
      ],
      "text/plain": [
       "   x      x⋅y(x)     \n",
       "- ──── + ℯ       = C₁\n",
       "  y(x)               "
      ]
     },
     "execution_count": 142,
     "metadata": {},
     "output_type": "execute_result"
    }
   ],
   "source": [
    "dsolve(Eq(top, bottom*y_))"
   ]
  },
  {
   "cell_type": "markdown",
   "metadata": {},
   "source": [
    "Consistent with SJDC article.\n",
    "\n",
    "Moving on to Initial Value Problems for the sake of time."
   ]
  },
  {
   "cell_type": "markdown",
   "metadata": {},
   "source": [
    "## Part 2: Solving Initial Value Problems\n",
    "\n",
    "We have $$dy/dx = 2x$$  $$y(0) = 5$$\n",
    "\n",
    "Which is quite straight forward to solve: $$y = x^2 + 5$$\n",
    "\n",
    "But lets try it out:"
   ]
  },
  {
   "cell_type": "code",
   "execution_count": 168,
   "metadata": {},
   "outputs": [],
   "source": [
    "x = Symbol('x')\n",
    "y = Function('y')(x)\n",
    "y_ = Derivative(y, x)\n",
    "f = dsolve(Eq(y_, 2*x))  # , n=6, x0=0, ics={f(0.0): 5.0})"
   ]
  },
  {
   "cell_type": "code",
   "execution_count": 169,
   "metadata": {},
   "outputs": [
    {
     "data": {
      "text/plain": [
       "sympy.core.relational.Equality"
      ]
     },
     "execution_count": 169,
     "metadata": {},
     "output_type": "execute_result"
    }
   ],
   "source": [
    "type(f)"
   ]
  },
  {
   "cell_type": "markdown",
   "metadata": {},
   "source": [
    "#### SymPy doesn't handle non-linear initial value problems\n",
    "##### Solution: Parsing output strings into functions\n",
    "Even though this problem is linear and would in fact be easy to solve with initial conditions specified, its not so easy with non-linear equations. We'll still use this one as an example.\n",
    "\n",
    "We get a massive error if we try to run this is an intial value problem because $y$ is an undefined function, and SymPy won't handle this on its own. Unfortunately the output is of data type `sympy.core.relational.Equality`, so we'll have to parse it manually into a function $y(x)$ that we assign to a variable and re-print it using SymPy's built-in printing.\n",
    "\n",
    "If there is a better, more direct way to do this I would love to know how.\n",
    "\n",
    "##### Note to self: Use SciPy + (SpaCy or NLTK) to parse equations into variables and operations\n",
    "For fun: consider writing Machine Learning algorithm (linear regression) with SciPy and training it to correctly parse SymPy output and all sorts of unicode math equations."
   ]
  },
  {
   "cell_type": "code",
   "execution_count": 170,
   "metadata": {},
   "outputs": [
    {
     "data": {
      "text/plain": [
       "'Eq(y(x), C1 + x**2)'"
      ]
     },
     "execution_count": 170,
     "metadata": {},
     "output_type": "execute_result"
    }
   ],
   "source": [
    "str(f)"
   ]
  },
  {
   "cell_type": "code",
   "execution_count": 171,
   "metadata": {},
   "outputs": [
    {
     "data": {
      "text/plain": [
       "['Eq(y(x)', ' C1 + x**2)']"
      ]
     },
     "execution_count": 171,
     "metadata": {},
     "output_type": "execute_result"
    }
   ],
   "source": [
    "# create variabe `grinder` that we will use to parse\n",
    "# interpret the equality statement as a string, split it at the comma\n",
    "grinder = str(f).split(',')\n",
    "grinder"
   ]
  },
  {
   "cell_type": "code",
   "execution_count": 172,
   "metadata": {},
   "outputs": [
    {
     "data": {
      "text/plain": [
       "['Eq(y(x)', 'C1+x**2)']"
      ]
     },
     "execution_count": 172,
     "metadata": {},
     "output_type": "execute_result"
    }
   ],
   "source": [
    "# remove all the spaces\n",
    "grinder = [''.join(i.split(' ')) for i in grinder]\n",
    "grinder"
   ]
  },
  {
   "cell_type": "code",
   "execution_count": 173,
   "metadata": {},
   "outputs": [
    {
     "data": {
      "text/plain": [
       "['y(x)', 'C1+x**2)']"
      ]
     },
     "execution_count": 173,
     "metadata": {},
     "output_type": "execute_result"
    }
   ],
   "source": [
    "# remove \"Eq(\" fromt he beginning\n",
    "grinder = [''.join(i.split('Eq(')) for i in grinder]\n",
    "grinder"
   ]
  },
  {
   "cell_type": "code",
   "execution_count": 174,
   "metadata": {},
   "outputs": [
    {
     "data": {
      "text/plain": [
       "['y(x)', 'C1+x**2']"
      ]
     },
     "execution_count": 174,
     "metadata": {},
     "output_type": "execute_result"
    }
   ],
   "source": [
    "# safely remove the ending parenthese\n",
    "grinder[1] = ''.join(list(grinder[1])[0:-1])\n",
    "grinder"
   ]
  },
  {
   "cell_type": "code",
   "execution_count": 175,
   "metadata": {},
   "outputs": [],
   "source": [
    "from sympy.parsing.sympy_parser import parse_expr\n",
    "f = parse_expr(grinder[0])\n",
    "g = parse_expr(grinder[1])"
   ]
  },
  {
   "cell_type": "code",
   "execution_count": 176,
   "metadata": {},
   "outputs": [
    {
     "data": {
      "image/png": "[encoded data removed]",
      "text/latex": [
       "$$y{\\left (x \\right )}$$"
      ],
      "text/plain": [
       "y(x)"
      ]
     },
     "execution_count": 176,
     "metadata": {},
     "output_type": "execute_result"
    }
   ],
   "source": [
    "f"
   ]
  },
  {
   "cell_type": "code",
   "execution_count": 177,
   "metadata": {},
   "outputs": [
    {
     "data": {
      "image/png": "[encoded data removed]",
      "text/latex": [
       "$$C_{1} + x^{2}$$"
      ],
      "text/plain": [
       "      2\n",
       "C₁ + x "
      ]
     },
     "execution_count": 177,
     "metadata": {},
     "output_type": "execute_result"
    }
   ],
   "source": [
    "g"
   ]
  },
  {
   "cell_type": "code",
   "execution_count": 178,
   "metadata": {},
   "outputs": [
    {
     "data": {
      "image/png": "[encoded data removed]",
      "text/latex": [
       "$$C_{1} + 9$$"
      ],
      "text/plain": [
       "C₁ + 9"
      ]
     },
     "execution_count": 178,
     "metadata": {},
     "output_type": "execute_result"
    }
   ],
   "source": [
    "g.subs(x, 3)"
   ]
  },
  {
   "cell_type": "markdown",
   "metadata": {},
   "source": [
    "#### Discovery: head developer shares info about initial/boundary conditions\n",
    "\n",
    "See the discussion <a href=\"https://stackoverflow.com/questions/41192748/how-to-evaluate-the-constants-sympy-gives-with-initial-condition/41193705#41193705\">here</a>."
   ]
  },
  {
   "cell_type": "code",
   "execution_count": 154,
   "metadata": {},
   "outputs": [
    {
     "data": {
      "image/png": "[encoded data removed]",
      "text/latex": [
       "$$\\left \\{ C_{1} : 3.0, \\quad C_{2} : 0.0\\right \\}$$"
      ],
      "text/plain": [
       "{C₁: 3.0, C₂: 0.0}"
      ]
     },
     "metadata": {},
     "output_type": "display_data"
    },
    {
     "data": {
      "image/png": "[encoded data removed]",
      "text/latex": [
       "$$C_{1} \\sin{\\left (x \\right )} + C_{2} \\cos{\\left (x \\right )}$$"
      ],
      "text/plain": [
       "C₁⋅sin(x) + C₂⋅cos(x)"
      ]
     },
     "metadata": {},
     "output_type": "display_data"
    },
    {
     "data": {
      "image/png": "[encoded data removed]",
      "text/latex": [
       "$$3.0 \\sin{\\left (x \\right )}$$"
      ],
      "text/plain": [
       "3.0⋅sin(x)"
      ]
     },
     "metadata": {},
     "output_type": "display_data"
    }
   ],
   "source": [
    "from sympy.solvers.ode import solve_ics\n",
    "from sympy import solve, Function, dsolve, Eq, Derivative, sin, cos, symbols\n",
    "from sympy.abc import x\n",
    "import math\n",
    "init_printing()\n",
    "\n",
    "f = Function('f')\n",
    "\n",
    "#eq = Eq(Derivative(f(x), x), f(x))\n",
    "#sol = dsolve(eq, f(x)).rhs\n",
    "#constants = solve([sol.subs(x,0)-1], dict=True)\n",
    "# print(sol.subs(constants[0]))\n",
    "\n",
    "sol = dsolve(f(x).diff(x, 2)+f(x), f(x)).rhs\n",
    "constants = solve([sol.subs(x, 0), sol.subs(x, math.pi/2) - 3])\n",
    "final_answer = sol.subs(constants)\n",
    "display(constants)\n",
    "display(sol)\n",
    "display(final_answer)"
   ]
  },
  {
   "cell_type": "markdown",
   "metadata": {},
   "source": [
    "### Back to the SJDC Intital Value Problems\n",
    "\n",
    "We have $$dy/dx = 2x$$  $$y(0) = 5$$"
   ]
  },
  {
   "cell_type": "code",
   "execution_count": 155,
   "metadata": {},
   "outputs": [],
   "source": [
    "from sympy import *\n",
    "x = Symbol('x')\n",
    "y = Function('y')(x)\n",
    "y_ = Derivative(y, x)\n",
    "f = dsolve(Eq(y_, 2*x))  # , n=6, x0=0, ics={f(0.0): 5.0})"
   ]
  },
  {
   "cell_type": "code",
   "execution_count": 156,
   "metadata": {},
   "outputs": [
    {
     "data": {
      "image/png": "[encoded data removed]",
      "text/latex": [
       "$$y{\\left (x \\right )} = C_{1} + x^{2}$$"
      ],
      "text/plain": [
       "             2\n",
       "y(x) = C₁ + x "
      ]
     },
     "execution_count": 156,
     "metadata": {},
     "output_type": "execute_result"
    }
   ],
   "source": [
    "f"
   ]
  },
  {
   "cell_type": "code",
   "execution_count": 157,
   "metadata": {},
   "outputs": [
    {
     "data": {
      "image/png": "[encoded data removed]",
      "text/latex": [
       "$$\\left [ \\left \\{ x : 2, \\quad y : 0\\right \\}\\right ]$$"
      ],
      "text/plain": [
       "[{x: 2, y: 0}]"
      ]
     },
     "execution_count": 157,
     "metadata": {},
     "output_type": "execute_result"
    }
   ],
   "source": [
    "y = Symbol('y')\n",
    "solve([x-2, y], dict=True)"
   ]
  },
  {
   "cell_type": "code",
   "execution_count": 158,
   "metadata": {},
   "outputs": [
    {
     "data": {
      "image/png": "[encoded data removed]",
      "text/latex": [
       "$$\\left [ \\right ]$$"
      ],
      "text/plain": [
       "[]"
      ]
     },
     "metadata": {},
     "output_type": "display_data"
    },
    {
     "data": {
      "image/png": "[encoded data removed]",
      "text/latex": [
       "$$C_{1} + x^{2}$$"
      ],
      "text/plain": [
       "      2\n",
       "C₁ + x "
      ]
     },
     "metadata": {},
     "output_type": "display_data"
    },
    {
     "data": {
      "image/png": "[encoded data removed]",
      "text/latex": [
       "$$C_{1} + x^{2}$$"
      ],
      "text/plain": [
       "      2\n",
       "C₁ + x "
      ]
     },
     "metadata": {},
     "output_type": "display_data"
    }
   ],
   "source": [
    "f = dsolve(Eq(y_, 2*x)).rhs\n",
    "constants = solve([f.subs(x, 0), 3], dict=True)\n",
    "final_answer = f.subs(constants)\n",
    "display(constants)\n",
    "display(f)\n",
    "display(final_answer)"
   ]
  },
  {
   "cell_type": "code",
   "execution_count": 159,
   "metadata": {},
   "outputs": [
    {
     "data": {
      "image/png": "[encoded data removed]",
      "text/latex": [
       "$$C_{1} = 5$$"
      ],
      "text/plain": [
       "C₁ = 5"
      ]
     },
     "execution_count": 159,
     "metadata": {},
     "output_type": "execute_result"
    }
   ],
   "source": [
    "Eq(f.subs(x,0), 5)"
   ]
  },
  {
   "cell_type": "code",
   "execution_count": 160,
   "metadata": {},
   "outputs": [
    {
     "data": {
      "text/plain": [
       "'Eq(C1, 5)'"
      ]
     },
     "execution_count": 160,
     "metadata": {},
     "output_type": "execute_result"
    }
   ],
   "source": [
    "from sympy.parsing.sympy_parser import parse_expr\n",
    "\n",
    "(str((Eq(f.subs(x, 0), 5))))"
   ]
  },
  {
   "cell_type": "markdown",
   "metadata": {},
   "source": [
    "#### Define Python function to extract constants from `Eq` statement"
   ]
  },
  {
   "cell_type": "code",
   "execution_count": 161,
   "metadata": {},
   "outputs": [],
   "source": [
    "def eq_to_constant_list(eq):\n",
    "    # create variabe `grinder` that we will use to parse\n",
    "    # interpret the equality statement as a string, split it at the comma\n",
    "    grinder = str(eq).split(',')\n",
    "\n",
    "    # remove all the spaces\n",
    "    grinder = [''.join(i.split(' ')) for i in grinder]\n",
    "\n",
    "    # remove \"Eq(\" fromt he beginning\n",
    "    grinder = [''.join(i.split('Eq(')) for i in grinder]\n",
    "\n",
    "    # safely remove the ending parenthese\n",
    "    grinder[1] = ''.join(list(grinder[1])[0:-1])\n",
    "\n",
    "    return float(str(grinder[1]))"
   ]
  },
  {
   "cell_type": "code",
   "execution_count": 162,
   "metadata": {},
   "outputs": [
    {
     "data": {
      "image/png": "[encoded data removed]",
      "text/latex": [
       "$$5.0$$"
      ],
      "text/plain": [
       "5.0"
      ]
     },
     "execution_count": 162,
     "metadata": {},
     "output_type": "execute_result"
    }
   ],
   "source": [
    "eq_to_constant_list(Eq(f.subs(x,0), 5))"
   ]
  },
  {
   "cell_type": "markdown",
   "metadata": {},
   "source": [
    "### Initial Value Example Problems from SymPy Doc"
   ]
  },
  {
   "cell_type": "code",
   "execution_count": 163,
   "metadata": {},
   "outputs": [
    {
     "data": {
      "image/png": "[encoded data removed]",
      "text/latex": [
       "$$f{\\left (x \\right )} = C_{1} \\sin{\\left (3 x \\right )} + C_{2} \\cos{\\left (3 x \\right )}$$"
      ],
      "text/plain": [
       "f(x) = C₁⋅sin(3⋅x) + C₂⋅cos(3⋅x)"
      ]
     },
     "execution_count": 163,
     "metadata": {},
     "output_type": "execute_result"
    }
   ],
   "source": [
    "from sympy import Function, dsolve, Eq, Derivative, sin, cos, symbols\n",
    "from sympy.abc import x\n",
    "f = Function('f')\n",
    "dsolve(Derivative(f(x), x, x) + 9*f(x), f(x))"
   ]
  },
  {
   "cell_type": "code",
   "execution_count": 164,
   "metadata": {},
   "outputs": [
    {
     "data": {
      "image/png": "[encoded data removed]",
      "text/latex": [
       "$$\\left [ f{\\left (x \\right )} = - \\operatorname{acos}{\\left (\\frac{C_{1}}{\\cos{\\left (x \\right )}} \\right )} + 2 \\pi, \\quad f{\\left (x \\right )} = \\operatorname{acos}{\\left (\\frac{C_{1}}{\\cos{\\left (x \\right )}} \\right )}\\right ]$$"
      ],
      "text/plain": [
       "⎡             ⎛  C₁  ⎞                   ⎛  C₁  ⎞⎤\n",
       "⎢f(x) = - acos⎜──────⎟ + 2⋅π, f(x) = acos⎜──────⎟⎥\n",
       "⎣             ⎝cos(x)⎠                   ⎝cos(x)⎠⎦"
      ]
     },
     "execution_count": 164,
     "metadata": {},
     "output_type": "execute_result"
    }
   ],
   "source": [
    "eq = sin(x)*cos(f(x)) + cos(x)*sin(f(x))*f(x).diff(x)\n",
    "dsolve(eq, hint='1st_exact')"
   ]
  },
  {
   "cell_type": "code",
   "execution_count": 165,
   "metadata": {},
   "outputs": [
    {
     "data": {
      "image/png": "[encoded data removed]",
      "text/latex": [
       "$$\\left [ f{\\left (x \\right )} = - \\operatorname{acos}{\\left (\\frac{C_{1}}{\\cos{\\left (x \\right )}} \\right )} + 2 \\pi, \\quad f{\\left (x \\right )} = \\operatorname{acos}{\\left (\\frac{C_{1}}{\\cos{\\left (x \\right )}} \\right )}\\right ]$$"
      ],
      "text/plain": [
       "⎡             ⎛  C₁  ⎞                   ⎛  C₁  ⎞⎤\n",
       "⎢f(x) = - acos⎜──────⎟ + 2⋅π, f(x) = acos⎜──────⎟⎥\n",
       "⎣             ⎝cos(x)⎠                   ⎝cos(x)⎠⎦"
      ]
     },
     "execution_count": 165,
     "metadata": {},
     "output_type": "execute_result"
    }
   ],
   "source": [
    "        \n",
    "dsolve(eq, hint='almost_linear')"
   ]
  },
  {
   "cell_type": "code",
   "execution_count": 166,
   "metadata": {},
   "outputs": [
    {
     "data": {
      "image/png": "[encoded data removed]",
      "text/latex": [
       "$$\\left [ x{\\left (t \\right )} = C_{1} \\operatorname{x_{0}}{\\left (t \\right )} + C_{2} \\operatorname{x_{0}}{\\left (t \\right )} \\int \\frac{8 \\left(e^{\\int 7 t\\, dt}\\right) e^{\\int 12 t\\, dt}}{\\operatorname{x_{0}}^{2}{\\left (t \\right )}}\\, dt, \\quad y{\\left (t \\right )} = C_{1} \\operatorname{y_{0}}{\\left (t \\right )} + C_{2} \\left(\\operatorname{y_{0}}{\\left (t \\right )} \\int \\frac{8 \\left(e^{\\int 7 t\\, dt}\\right) e^{\\int 12 t\\, dt}}{\\operatorname{x_{0}}^{2}{\\left (t \\right )}}\\, dt + \\frac{\\left(e^{\\int 7 t\\, dt}\\right) e^{\\int 12 t\\, dt}}{\\operatorname{x_{0}}{\\left (t \\right )}}\\right)\\right ]$$"
      ],
      "text/plain": [
       "⎡                           ⌠                                                 \n",
       "⎢                           ⎮    ⌠         ⌠                                  \n",
       "⎢                           ⎮    ⎮ 7⋅t dt  ⎮ 12⋅t dt                          \n",
       "⎢                           ⎮    ⌡         ⌡                                  \n",
       "⎢                           ⎮ 8⋅ℯ        ⋅ℯ                                   \n",
       "⎢x(t) = C₁⋅x₀(t) + C₂⋅x₀(t)⋅⎮ ────────────────────── dt, y(t) = C₁⋅y₀(t) + C₂⋅\n",
       "⎢                           ⎮           2                                     \n",
       "⎢                           ⎮         x₀ (t)                                  \n",
       "⎣                           ⌡                                                 \n",
       "\n",
       "⎛      ⌠                                                 ⎞⎤\n",
       "⎜      ⎮    ⌠         ⌠               ⌠         ⌠        ⎟⎥\n",
       "⎜      ⎮    ⎮ 7⋅t dt  ⎮ 12⋅t dt       ⎮ 7⋅t dt  ⎮ 12⋅t dt⎟⎥\n",
       "⎜      ⎮    ⌡         ⌡               ⌡         ⌡        ⎟⎥\n",
       "⎜      ⎮ 8⋅ℯ        ⋅ℯ               ℯ        ⋅ℯ         ⎟⎥\n",
       "⎜y₀(t)⋅⎮ ────────────────────── dt + ────────────────────⎟⎥\n",
       "⎜      ⎮           2                        x₀(t)        ⎟⎥\n",
       "⎜      ⎮         x₀ (t)                                  ⎟⎥\n",
       "⎝      ⌡                                                 ⎠⎦"
      ]
     },
     "execution_count": 166,
     "metadata": {},
     "output_type": "execute_result"
    }
   ],
   "source": [
    "t = symbols('t')\n",
    "x, y = symbols('x, y', cls=Function)\n",
    "eq = (Eq(Derivative(x(t),t), 12*t*x(t) + 8*y(t)), Eq(Derivative(y(t),t), 21*x(t) + 7*t*y(t)))\n",
    "dsolve(eq)"
   ]
  },
  {
   "cell_type": "code",
   "execution_count": 167,
   "metadata": {},
   "outputs": [
    {
     "data": {
      "image/png": "[encoded data removed]",
      "text/latex": [
       "$$\\left\\{x{\\left (t \\right )} = - \\frac{e^{C_{1}}}{C_{2} e^{C_{1}} - \\cos{\\left (t \\right )}}, y{\\left (t \\right )} = - \\frac{1}{C_{1} - \\cos{\\left (t \\right )}}\\right\\}$$"
      ],
      "text/plain": [
       "⎧              C₁                          ⎫\n",
       "⎪            -ℯ                     -1     ⎪\n",
       "⎨x(t) = ───────────────, y(t) = ───────────⎬\n",
       "⎪           C₁                  C₁ - cos(t)⎪\n",
       "⎩       C₂⋅ℯ   - cos(t)                    ⎭"
      ]
     },
     "execution_count": 167,
     "metadata": {},
     "output_type": "execute_result"
    }
   ],
   "source": [
    "eq = (Eq(Derivative(x(t),t),x(t)*y(t)*sin(t)), Eq(Derivative(y(t),t),y(t)**2*sin(t)))\n",
    "dsolve(eq)"
   ]
  },
  {
   "cell_type": "markdown",
   "metadata": {},
   "source": [
    "## Speeding Up SymPy with Cython\n",
    "https://studywolf.wordpress.com/2017/04/23/quick-calculations-with-sympy-and-cython/comment-page-1/"
   ]
  },
  {
   "cell_type": "code",
   "execution_count": null,
   "metadata": {},
   "outputs": [],
   "source": []
  }
 ],
 "metadata": {
  "kernelspec": {
   "display_name": "Python 3",
   "language": "python",
   "name": "python3"
  },
  "language_info": {
   "codemirror_mode": {
    "name": "ipython",
    "version": 3
   },
   "file_extension": ".py",
   "mimetype": "text/x-python",
   "name": "python",
   "nbconvert_exporter": "python",
   "pygments_lexer": "ipython3",
   "version": "3.7.0"
  },
  "toc": {
   "base_numbering": 1,
   "nav_menu": {},
   "number_sections": true,
   "sideBar": true,
   "skip_h1_title": false,
   "title_cell": "Table of Contents",
   "title_sidebar": "Contents",
   "toc_cell": true,
   "toc_position": {
    "height": "calc(100% - 180px)",
    "left": "10px",
    "top": "150px",
    "width": "554px"
   },
   "toc_section_display": true,
   "toc_window_display": true
  }
 },
 "nbformat": 4,
 "nbformat_minor": 2
}
