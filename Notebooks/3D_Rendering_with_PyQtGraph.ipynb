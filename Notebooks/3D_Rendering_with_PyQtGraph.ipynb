{
 "cells": [
  {
   "cell_type": "markdown",
   "metadata": {
    "toc": true
   },
   "source": [
    "<h1>Table of Contents<span class=\"tocSkip\"></span></h1>\n",
    "<div class=\"toc\"><ul class=\"toc-item\"><li><span><a href=\"#Mathematical-Visualization-with-PyQtGraph\" data-toc-modified-id=\"Mathematical-Visualization-with-PyQtGraph-1\">Mathematical Visualization with PyQtGraph</a></span></li></ul></div>"
   ]
  },
  {
   "cell_type": "markdown",
   "metadata": {},
   "source": [
    "# Mathematical Visualization with PyQtGraph\n",
    "\n",
    "http://www.pyqtgraph.org/documentation/introduction.html\n",
    "\n",
    "__Qt__ is a free and powerful GUI toolkit--a cross-platform Software Development Kit (SDK). __PyQt__ is a python binding that allows Qt interfaces to be coded directly in Python. __PyQtGraph__ is a scientific graphics and GUI library for Python.\n",
    "\n",
    "PyQtGraph runs on an OpenGl backend and running it will spawn GUI's on the host machine. They will not be embedded in a notebook. It is very powerful and much faster than Matplotlib or Plotly. This power comes at an additional tradeoff for notebook users: while a PyQtGraph GUI is running, the notebook's kernel will wait until it is closed to continue performing any additional actions or computations.\n",
    "\n",
    "__PyQtGraph__ may serve better serve its purpose from Spyder or Jupyter Lab."
   ]
  },
  {
   "cell_type": "markdown",
   "metadata": {},
   "source": [
    "Here is a comparison of PyQtGraph and Matplotlib from the PQtG website: \n",
    "\n",
    "Matplotlib is more or less the de-facto standard plotting library for python. If you are starting a new project and do not need any of the features specifically provided by pyqtgraph, you should start with matplotlib. It is much more mature, has an enormous user community, and produces very nice publication-quality graphics.<br /><br />\n",
    "\n",
    "Reasons you might want to use pyqtgraph instead:<br /><br />\n",
    "\n",
    "1.) Speed. If you are doing anything requiring rapid plot updates, video, or realtime interactivity, matplotlib is not the best choice. This is (in my opinion) matplotlib's greatest weakness.\n",
    "\n",
    "2.) Portability / ease of installation. PyQtGraph is a pure-python package, which means that it runs on virtually every platform supported by numpy and PyQt, no compiling required. If you require portability in your application, this can make your life a lot easier.\n",
    "\n",
    "3.) Many other features--pyqtgraph is much more than a plotting library; it strives to cover many aspects of science/engineering application development with more advanced features like its ImageView and ScatterPlotWidget analysis tools, ROI-based data slicing, parameter trees, flowcharts, multiprocessing, and more."
   ]
  },
  {
   "cell_type": "code",
   "execution_count": 1,
   "metadata": {},
   "outputs": [],
   "source": [
    "import pyqtgraph as pg"
   ]
  },
  {
   "cell_type": "code",
   "execution_count": 7,
   "metadata": {},
   "outputs": [
    {
     "data": {
      "text/plain": [
       "0"
      ]
     },
     "execution_count": 7,
     "metadata": {},
     "output_type": "execute_result"
    }
   ],
   "source": [
    "## build a QApplication before building other widgets\n",
    "import pyqtgraph as pg\n",
    "pg.mkQApp()\n",
    "\n",
    "## make a widget for displaying 3D objects\n",
    "import pyqtgraph.opengl as gl\n",
    "view = gl.GLViewWidget()\n",
    "view.show()\n",
    "\n",
    "## create three grids, add each to the view\n",
    "xgrid = gl.GLGridItem()\n",
    "ygrid = gl.GLGridItem()\n",
    "zgrid = gl.GLGridItem()\n",
    "view.addItem(xgrid)\n",
    "view.addItem(ygrid)\n",
    "view.addItem(zgrid)\n",
    "\n",
    "## rotate x and y grids to face the correct direction\n",
    "xgrid.rotate(90, 0, 1, 0)\n",
    "ygrid.rotate(90, 1, 0, 0)\n",
    "\n",
    "## scale each grid differently\n",
    "#xgrid.scale(0.2, 0.1, 0.1)\n",
    "#ygrid.scale(0.2, 0.1, 0.1)\n",
    "#zgrid.scale(0.1, 0.2, 0.1)\n",
    "\n",
    "## scale each grid the same\n",
    "#xgrid.scale(0.2, 0.1, 0.1)\n",
    "#ygrid.scale(0.2, 0.1, 0.1)\n",
    "#zgrid.scale(0.1, 0.2, 0.1)\n",
    "\n",
    "pg.QtGui.QApplication.exec_()"
   ]
  },
  {
   "cell_type": "code",
   "execution_count": 6,
   "metadata": {},
   "outputs": [
    {
     "name": "stdout",
     "output_type": "stream",
     "text": [
      "Help on function rotate in module pyqtgraph.opengl.GLGraphicsItem:\n",
      "\n",
      "rotate(self, angle, x, y, z, local=False)\n",
      "    Rotate the object around the axis specified by (x,y,z).\n",
      "    *angle* is in degrees.\n",
      "\n"
     ]
    }
   ],
   "source": [
    "help(gl.GLGridItem.rotate)"
   ]
  },
  {
   "cell_type": "code",
   "execution_count": 8,
   "metadata": {},
   "outputs": [
    {
     "data": {
      "text/plain": [
       "<pyqtgraph.graphicsWindows.PlotWindow at 0x27753aac8b8>"
      ]
     },
     "execution_count": 8,
     "metadata": {},
     "output_type": "execute_result"
    }
   ],
   "source": [
    "import pyqtgraph as pg\n",
    "import numpy as np\n",
    "x = np.random.normal(size=1000)\n",
    "y = np.random.normal(size=1000)\n",
    "pg.plot(x, y, pen=None, symbol='o')  ## setting pen=None disables line drawing"
   ]
  },
  {
   "cell_type": "markdown",
   "metadata": {},
   "source": [
    "If you don't run `pg.QtGui.QApplication.exec_()` immediately after you attempt to spawn a graph, it will appear as if the newly spawned window isn't responding. It's waiting for its instruction to execute the actual application."
   ]
  },
  {
   "cell_type": "code",
   "execution_count": 9,
   "metadata": {},
   "outputs": [
    {
     "data": {
      "text/plain": [
       "0"
      ]
     },
     "execution_count": 9,
     "metadata": {},
     "output_type": "execute_result"
    }
   ],
   "source": [
    "pg.QtGui.QApplication.exec_()"
   ]
  },
  {
   "cell_type": "code",
   "execution_count": 1,
   "metadata": {},
   "outputs": [
    {
     "data": {
      "text/plain": [
       "0"
      ]
     },
     "execution_count": 1,
     "metadata": {},
     "output_type": "execute_result"
    }
   ],
   "source": [
    "import pyqtgraph as pg\n",
    "import numpy as np\n",
    "x = np.arange(100)\n",
    "y = np.random.normal(size=(3, 100))\n",
    "plotWidget = pg.plot(title=\"Three plot curves\")\n",
    "for i in range(3):\n",
    "    plotWidget.plot(x, y[i], pen=(i,3))  ## setting pen=(i,3) automaticaly creates three different-colored pens\n",
    "pg.QtGui.QApplication.exec_()"
   ]
  },
  {
   "cell_type": "code",
   "execution_count": null,
   "metadata": {},
   "outputs": [],
   "source": []
  }
 ],
 "metadata": {
  "kernelspec": {
   "display_name": "Python 3",
   "language": "python",
   "name": "python3"
  },
  "toc": {
   "base_numbering": 1,
   "nav_menu": {},
   "number_sections": false,
   "sideBar": true,
   "skip_h1_title": false,
   "title_cell": "Table of Contents",
   "title_sidebar": "Contents",
   "toc_cell": true,
   "toc_position": {},
   "toc_section_display": true,
   "toc_window_display": false
  }
 },
 "nbformat": 4,
 "nbformat_minor": 2
}
